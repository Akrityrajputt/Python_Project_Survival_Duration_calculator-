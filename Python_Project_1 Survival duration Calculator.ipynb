{
 "cells": [
  {
   "cell_type": "code",
   "execution_count": 7,
   "id": "eb96daca",
   "metadata": {},
   "outputs": [
    {
     "name": "stdout",
     "output_type": "stream",
     "text": [
      "What's your age? 24\n",
      "Please choose a time unit: Months, Weeks, Days, Hours, Minutes, Seconds.\n",
      "Note: You can write the first letter or the full name of the time unit.\n",
      "Choose a time unit: Seconds\n",
      "You lived for 756864000 Seconds\n"
     ]
    }
   ],
   "source": [
    "def calculate_duration(age, unit):\n",
    "    if unit == 'm' or unit.lower() == 'months':\n",
    "        return age * 12\n",
    "    elif unit == 'w' or unit.lower() == 'weeks':\n",
    "        return age * 52\n",
    "    elif unit == 'd' or unit.lower() == 'days':\n",
    "        return age * 365\n",
    "    elif unit == 'h' or unit.lower() == 'hours':\n",
    "        return age * 365 * 24\n",
    "    elif unit == 'min' or unit.lower() == 'minutes':\n",
    "        return age * 365 * 24 * 60\n",
    "    elif unit == 's' or unit.lower() == 'seconds':\n",
    "        return age * 365 * 24 * 60 * 60\n",
    "    else:\n",
    "        return None\n",
    "\n",
    "def main():\n",
    "    try:\n",
    "        age = int(input(\"What's your age? \"))\n",
    "        if age < 0:\n",
    "            raise ValueError(\"Age cannot be negative.\")\n",
    "    except ValueError as e:\n",
    "        print(f\"Invalid age input: {e}\")\n",
    "        return\n",
    "\n",
    "    print(\"Please choose a time unit: Months, Weeks, Days, Hours, Minutes, Seconds.\")\n",
    "    print(\"Note: You can write the first letter or the full name of the time unit.\")\n",
    "    \n",
    "    unit = input(\"Choose a time unit: \").strip().lower()\n",
    "    duration = calculate_duration(age, unit)\n",
    "\n",
    "    if duration is not None:\n",
    "        units_dict = {\n",
    "            'm': 'Months',\n",
    "            'months': 'Months',\n",
    "            'w': 'Weeks',\n",
    "            'weeks': 'Weeks',\n",
    "            'd': 'Days',\n",
    "            'days': 'Days',\n",
    "            'h': 'Hours',\n",
    "            'hours': 'Hours',\n",
    "            'min': 'Minutes',\n",
    "            'minutes': 'Minutes',\n",
    "            's': 'Seconds',\n",
    "            'seconds': 'Seconds'\n",
    "        }\n",
    "        unit_full_name = units_dict.get(unit, unit)\n",
    "        print(f\"You lived for {duration} {unit_full_name}\")\n",
    "    else:\n",
    "        print(\"Invalid time unit selected.\")\n",
    "\n",
    "if __name__ == \"__main__\":\n",
    "    main()\n",
    "    \n",
    "    #When you run this program, it will prompt you to enter your age and then ask you to choose a time unit.\n",
    "    #Based on your input, it will display the duration you have lived in the chosen time unit."
   ]
  },
  {
   "cell_type": "code",
   "execution_count": null,
   "id": "33b07c87",
   "metadata": {},
   "outputs": [],
   "source": []
  },
  {
   "cell_type": "code",
   "execution_count": null,
   "id": "ea7649c6",
   "metadata": {},
   "outputs": [],
   "source": []
  },
  {
   "cell_type": "code",
   "execution_count": null,
   "id": "839fae74",
   "metadata": {},
   "outputs": [],
   "source": []
  },
  {
   "cell_type": "code",
   "execution_count": null,
   "id": "6b02c468",
   "metadata": {},
   "outputs": [],
   "source": []
  }
 ],
 "metadata": {
  "kernelspec": {
   "display_name": "Python 3 (ipykernel)",
   "language": "python",
   "name": "python3"
  },
  "language_info": {
   "codemirror_mode": {
    "name": "ipython",
    "version": 3
   },
   "file_extension": ".py",
   "mimetype": "text/x-python",
   "name": "python",
   "nbconvert_exporter": "python",
   "pygments_lexer": "ipython3",
   "version": "3.11.5"
  }
 },
 "nbformat": 4,
 "nbformat_minor": 5
}
